{
 "cells": [
  {
   "cell_type": "code",
   "execution_count": 16,
   "metadata": {},
   "outputs": [],
   "source": [
    "import psycopg2\n",
    "import pandas as pd"
   ]
  },
  {
   "cell_type": "code",
   "execution_count": 6,
   "metadata": {},
   "outputs": [],
   "source": [
    "df_detalles_artistas = pd.read_csv(\"../data/detalles_artistas.csv\")\n",
    "df_detalles_peliculas = pd.read_csv(\"../data/detalles_peliculas.csv\")\n",
    "df_pelicula_artista = pd.read_csv(\"../data/pelicula_artista.csv\")\n",
    "df_pliculas = pd.read_csv(\"../data/peliculas.csv\")"
   ]
  },
  {
   "cell_type": "code",
   "execution_count": 15,
   "metadata": {},
   "outputs": [
    {
     "data": {
      "text/html": [
       "<div>\n",
       "<style scoped>\n",
       "    .dataframe tbody tr th:only-of-type {\n",
       "        vertical-align: middle;\n",
       "    }\n",
       "\n",
       "    .dataframe tbody tr th {\n",
       "        vertical-align: top;\n",
       "    }\n",
       "\n",
       "    .dataframe thead th {\n",
       "        text-align: right;\n",
       "    }\n",
       "</style>\n",
       "<table border=\"1\" class=\"dataframe\">\n",
       "  <thead>\n",
       "    <tr style=\"text-align: right;\">\n",
       "      <th></th>\n",
       "      <th>actr</th>\n",
       "      <th>año_nac</th>\n",
       "      <th>conocido_por</th>\n",
       "      <th>que_hace</th>\n",
       "      <th>premios</th>\n",
       "    </tr>\n",
       "  </thead>\n",
       "  <tbody>\n",
       "    <tr>\n",
       "      <th>0</th>\n",
       "      <td>A. Gunaseelan</td>\n",
       "      <td>9999</td>\n",
       "      <td>'Mandela'</td>\n",
       "      <td>Casting Department, Actress, Casting Director</td>\n",
       "      <td>1 nomination</td>\n",
       "    </tr>\n",
       "    <tr>\n",
       "      <th>1</th>\n",
       "      <td>A. Michelle Harleston</td>\n",
       "      <td>9999</td>\n",
       "      <td>'Murder by Numbers', 'The Mark of a Killer', '...</td>\n",
       "      <td>Actor</td>\n",
       "      <td>no tiene premios</td>\n",
       "    </tr>\n",
       "  </tbody>\n",
       "</table>\n",
       "</div>"
      ],
      "text/plain": [
       "                    actr  año_nac  \\\n",
       "0          A. Gunaseelan     9999   \n",
       "1  A. Michelle Harleston     9999   \n",
       "\n",
       "                                        conocido_por  \\\n",
       "0                                          'Mandela'   \n",
       "1  'Murder by Numbers', 'The Mark of a Killer', '...   \n",
       "\n",
       "                                        que_hace           premios  \n",
       "0  Casting Department, Actress, Casting Director      1 nomination  \n",
       "1                                          Actor  no tiene premios  "
      ]
     },
     "execution_count": 15,
     "metadata": {},
     "output_type": "execute_result"
    }
   ],
   "source": [
    "df_detalles_artistas.head(2)"
   ]
  },
  {
   "cell_type": "code",
   "execution_count": 14,
   "metadata": {},
   "outputs": [
    {
     "data": {
      "text/html": [
       "<div>\n",
       "<style scoped>\n",
       "    .dataframe tbody tr th:only-of-type {\n",
       "        vertical-align: middle;\n",
       "    }\n",
       "\n",
       "    .dataframe tbody tr th {\n",
       "        vertical-align: top;\n",
       "    }\n",
       "\n",
       "    .dataframe thead th {\n",
       "        text-align: right;\n",
       "    }\n",
       "</style>\n",
       "<table border=\"1\" class=\"dataframe\">\n",
       "  <thead>\n",
       "    <tr style=\"text-align: right;\">\n",
       "      <th></th>\n",
       "      <th>titulo</th>\n",
       "      <th>cali_imdb</th>\n",
       "      <th>direc_imbd</th>\n",
       "      <th>guion_imbd</th>\n",
       "      <th>argum_imbd</th>\n",
       "      <th>durac_imbd</th>\n",
       "      <th>id_pelicula</th>\n",
       "    </tr>\n",
       "  </thead>\n",
       "  <tbody>\n",
       "    <tr>\n",
       "      <th>0</th>\n",
       "      <td>Las Travesuras de Super Chido</td>\n",
       "      <td>7.7</td>\n",
       "      <td>Alejandro Todd</td>\n",
       "      <td>Óscar FentanesJuan Garrido</td>\n",
       "      <td>Desconocido</td>\n",
       "      <td>1h 35min</td>\n",
       "      <td>tt0320656</td>\n",
       "    </tr>\n",
       "    <tr>\n",
       "      <th>1</th>\n",
       "      <td>Velai Kidaichiruchu</td>\n",
       "      <td>5.2</td>\n",
       "      <td>P. Vasu</td>\n",
       "      <td>SathyarajGautamiAnandraj</td>\n",
       "      <td>Baasha, a gangster, controls a whole village w...</td>\n",
       "      <td>Desconocido</td>\n",
       "      <td>tt0318803</td>\n",
       "    </tr>\n",
       "  </tbody>\n",
       "</table>\n",
       "</div>"
      ],
      "text/plain": [
       "                          titulo  cali_imdb      direc_imbd  \\\n",
       "0  Las Travesuras de Super Chido        7.7  Alejandro Todd   \n",
       "1            Velai Kidaichiruchu        5.2         P. Vasu   \n",
       "\n",
       "                   guion_imbd  \\\n",
       "0  Óscar FentanesJuan Garrido   \n",
       "1    SathyarajGautamiAnandraj   \n",
       "\n",
       "                                          argum_imbd   durac_imbd id_pelicula  \n",
       "0                                        Desconocido     1h 35min   tt0320656  \n",
       "1  Baasha, a gangster, controls a whole village w...  Desconocido   tt0318803  "
      ]
     },
     "execution_count": 14,
     "metadata": {},
     "output_type": "execute_result"
    }
   ],
   "source": [
    "df_detalles_peliculas.head(2)"
   ]
  },
  {
   "cell_type": "code",
   "execution_count": 13,
   "metadata": {},
   "outputs": [
    {
     "data": {
      "text/html": [
       "<div>\n",
       "<style scoped>\n",
       "    .dataframe tbody tr th:only-of-type {\n",
       "        vertical-align: middle;\n",
       "    }\n",
       "\n",
       "    .dataframe tbody tr th {\n",
       "        vertical-align: top;\n",
       "    }\n",
       "\n",
       "    .dataframe thead th {\n",
       "        text-align: right;\n",
       "    }\n",
       "</style>\n",
       "<table border=\"1\" class=\"dataframe\">\n",
       "  <thead>\n",
       "    <tr style=\"text-align: right;\">\n",
       "      <th></th>\n",
       "      <th>Movie ID</th>\n",
       "      <th>Actriz_Actor</th>\n",
       "    </tr>\n",
       "  </thead>\n",
       "  <tbody>\n",
       "    <tr>\n",
       "      <th>0</th>\n",
       "      <td>tt0110660</td>\n",
       "      <td>Tony Ka Fai Leung</td>\n",
       "    </tr>\n",
       "    <tr>\n",
       "      <th>1</th>\n",
       "      <td>tt0110363</td>\n",
       "      <td>Luke Edwards</td>\n",
       "    </tr>\n",
       "  </tbody>\n",
       "</table>\n",
       "</div>"
      ],
      "text/plain": [
       "    Movie ID       Actriz_Actor\n",
       "0  tt0110660  Tony Ka Fai Leung\n",
       "1  tt0110363       Luke Edwards"
      ]
     },
     "execution_count": 13,
     "metadata": {},
     "output_type": "execute_result"
    }
   ],
   "source": [
    "df_pelicula_artista.head(2)"
   ]
  },
  {
   "cell_type": "code",
   "execution_count": 12,
   "metadata": {},
   "outputs": [
    {
     "data": {
      "text/html": [
       "<div>\n",
       "<style scoped>\n",
       "    .dataframe tbody tr th:only-of-type {\n",
       "        vertical-align: middle;\n",
       "    }\n",
       "\n",
       "    .dataframe tbody tr th {\n",
       "        vertical-align: top;\n",
       "    }\n",
       "\n",
       "    .dataframe thead th {\n",
       "        text-align: right;\n",
       "    }\n",
       "</style>\n",
       "<table border=\"1\" class=\"dataframe\">\n",
       "  <thead>\n",
       "    <tr style=\"text-align: right;\">\n",
       "      <th></th>\n",
       "      <th>Tipo</th>\n",
       "      <th>Titulo</th>\n",
       "      <th>Año</th>\n",
       "      <th>Mes</th>\n",
       "      <th>Id</th>\n",
       "      <th>generos</th>\n",
       "    </tr>\n",
       "  </thead>\n",
       "  <tbody>\n",
       "    <tr>\n",
       "      <th>0</th>\n",
       "      <td>Movie</td>\n",
       "      <td>Las Travesuras de Super Chido</td>\n",
       "      <td>1990</td>\n",
       "      <td>10</td>\n",
       "      <td>tt0320656</td>\n",
       "      <td>Action</td>\n",
       "    </tr>\n",
       "    <tr>\n",
       "      <th>1</th>\n",
       "      <td>Movie</td>\n",
       "      <td>Velai Kidaichiruchu</td>\n",
       "      <td>1990</td>\n",
       "      <td>8</td>\n",
       "      <td>tt0318803</td>\n",
       "      <td>Action</td>\n",
       "    </tr>\n",
       "  </tbody>\n",
       "</table>\n",
       "</div>"
      ],
      "text/plain": [
       "    Tipo                         Titulo   Año  Mes         Id generos\n",
       "0  Movie  Las Travesuras de Super Chido  1990   10  tt0320656  Action\n",
       "1  Movie            Velai Kidaichiruchu  1990    8  tt0318803  Action"
      ]
     },
     "execution_count": 12,
     "metadata": {},
     "output_type": "execute_result"
    }
   ],
   "source": [
    "df_pliculas.head(2)"
   ]
  },
  {
   "cell_type": "code",
   "execution_count": null,
   "metadata": {},
   "outputs": [],
   "source": []
  },
  {
   "cell_type": "code",
   "execution_count": null,
   "metadata": {},
   "outputs": [],
   "source": []
  }
 ],
 "metadata": {
  "kernelspec": {
   "display_name": "data",
   "language": "python",
   "name": "python3"
  },
  "language_info": {
   "codemirror_mode": {
    "name": "ipython",
    "version": 3
   },
   "file_extension": ".py",
   "mimetype": "text/x-python",
   "name": "python",
   "nbconvert_exporter": "python",
   "pygments_lexer": "ipython3",
   "version": "3.8.0"
  }
 },
 "nbformat": 4,
 "nbformat_minor": 2
}
